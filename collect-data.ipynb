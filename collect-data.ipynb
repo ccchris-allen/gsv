{
 "metadata": {
  "name": "",
  "signature": "sha256:d432a8386dbcd19759f79f9e8c734e6aa13cb275f8cf9402e980102a611a2c0b"
 },
 "nbformat": 3,
 "nbformat_minor": 0,
 "worksheets": [
  {
   "cells": [
    {
     "cell_type": "heading",
     "level": 1,
     "metadata": {},
     "source": [
      "Notebook to collect data from GSV"
     ]
    },
    {
     "cell_type": "code",
     "collapsed": false,
     "input": [
      "import geopandas as gpd\n",
      "from collect_gsv_data import sample_road, save_streetview_image\n",
      "\n",
      "import os"
     ],
     "language": "python",
     "metadata": {},
     "outputs": [],
     "prompt_number": 1
    },
    {
     "cell_type": "code",
     "collapsed": false,
     "input": [
      "OUTPUT_DIR_TEMPLATE = \"./images/{}\"\n",
      "\n",
      "SAMPLING_INTERVAL = 20.0\n",
      "\n",
      "SEGMENT_ID_DICT = {\n",
      "    '92113': {\n",
      "        'business': [48853, 102239, 219141], \n",
      "        'mixed': [44168, 104949, 112745], \n",
      "        'residential': [39820, 51759, 64241, 104924]\n",
      "    }, '92120': {\n",
      "        'business': [54881, 55298, 63853], \n",
      "        'mixed': [20501, 50827, 124265], \n",
      "        'residential': [14711, 18809, 41569, 43496]\n",
      "    }, '92130': {\n",
      "        'business': [159695, 191651, 215723], \n",
      "        'mixed': [154745, 159681, 171632], \n",
      "        'residential': [65453, 74493, 104739, 157668]\n",
      "    }\n",
      "}\n",
      "\n",
      "SEGMENT_IDS = [sid for k1, v1 in SEGMENT_ID_DICT.items() for k2, v2 in v1.items() for sid in v2]\n",
      "\n",
      "# these segment IDs have no data for GSV, so filter them out\n",
      "MISSING_DATA = [102239, 157668, 171632, 112745, 124265, 39820]"
     ],
     "language": "python",
     "metadata": {},
     "outputs": [],
     "prompt_number": 2
    },
    {
     "cell_type": "heading",
     "level": 3,
     "metadata": {},
     "source": [
      "Load data and select only segments that are specified above"
     ]
    },
    {
     "cell_type": "code",
     "collapsed": true,
     "input": [
      "roads = gpd.read_file(\"./data/ROADS_ALL.shp\")"
     ],
     "language": "python",
     "metadata": {},
     "outputs": [],
     "prompt_number": 3
    },
    {
     "cell_type": "code",
     "collapsed": false,
     "input": [
      "segments = roads[roads.ROADSEGID.isin(SEGMENT_IDS)].to_crs(epsg=4326)"
     ],
     "language": "python",
     "metadata": {},
     "outputs": [],
     "prompt_number": 4
    },
    {
     "cell_type": "code",
     "collapsed": false,
     "input": [
      "print \"{} segments selected.\".format(len(segments))"
     ],
     "language": "python",
     "metadata": {},
     "outputs": [
      {
       "output_type": "stream",
       "stream": "stdout",
       "text": [
        "30 segments selected.\n"
       ]
      }
     ],
     "prompt_number": 5
    },
    {
     "cell_type": "raw",
     "metadata": {},
     "source": [
      "from collect_gsv_data import sv\n",
      "\n",
      "lat, lon = 32.6960513,-117.1076302\n",
      "\n",
      "sv.panoids(lat, lon)"
     ]
    },
    {
     "cell_type": "code",
     "collapsed": false,
     "input": [
      "for indx, row in segments.iterrows():\n",
      "    segment_id = row['ROADSEGID']\n",
      "    geom = row['geometry']\n",
      "    \n",
      "    print segment_id\n",
      "    \n",
      "    if segment_id in MISSING_DATA:\n",
      "        print \"Skipping due to no data in GSV.\"\n",
      "        continue\n",
      "    \n",
      "    samples = sample_road(geom, delta=SAMPLING_INTERVAL, to_crs=32611)\n",
      "    \n",
      "    output_dir = OUTPUT_DIR_TEMPLATE.format(segment_id)\n",
      "    \n",
      "    if not os.path.exists(output_dir):\n",
      "        os.makedirs(output_dir)\n",
      "    \n",
      "    for (lon, lat), bearing in samples:\n",
      "        try:\n",
      "            #print \"Collecting data for (%f, %f)\" % (lon, lat)\n",
      "            save_streetview_image(lon, lat, bearing, output_dir)\n",
      "        except Exception, e:\n",
      "            print str(e)"
     ],
     "language": "python",
     "metadata": {},
     "outputs": [
      {
       "output_type": "stream",
       "stream": "stdout",
       "text": [
        "65453\n",
        "50827"
       ]
      },
      {
       "output_type": "stream",
       "stream": "stdout",
       "text": [
        "\n",
        "157668"
       ]
      },
      {
       "output_type": "stream",
       "stream": "stdout",
       "text": [
        "\n",
        "Skipping due to no data in GSV.\n",
        "104739\n",
        "51759"
       ]
      },
      {
       "output_type": "stream",
       "stream": "stdout",
       "text": [
        "\n",
        "54881"
       ]
      },
      {
       "output_type": "stream",
       "stream": "stdout",
       "text": [
        "\n",
        "list index out of range"
       ]
      },
      {
       "output_type": "stream",
       "stream": "stdout",
       "text": [
        "\n",
        "list index out of range"
       ]
      },
      {
       "output_type": "stream",
       "stream": "stdout",
       "text": [
        "\n",
        "63853"
       ]
      },
      {
       "output_type": "stream",
       "stream": "stdout",
       "text": [
        "\n",
        "list index out of range"
       ]
      },
      {
       "output_type": "stream",
       "stream": "stdout",
       "text": [
        "\n",
        "list index out of range"
       ]
      },
      {
       "output_type": "stream",
       "stream": "stdout",
       "text": [
        "\n",
        "43496"
       ]
      },
      {
       "output_type": "stream",
       "stream": "stdout",
       "text": [
        "\n",
        "14711"
       ]
      },
      {
       "output_type": "stream",
       "stream": "stdout",
       "text": [
        "\n",
        "list index out of range"
       ]
      },
      {
       "output_type": "stream",
       "stream": "stdout",
       "text": [
        "\n",
        "list index out of range"
       ]
      },
      {
       "output_type": "stream",
       "stream": "stdout",
       "text": [
        "\n",
        "154745"
       ]
      },
      {
       "output_type": "stream",
       "stream": "stdout",
       "text": [
        "\n",
        "112745"
       ]
      },
      {
       "output_type": "stream",
       "stream": "stdout",
       "text": [
        "\n",
        "Skipping due to no data in GSV.\n",
        "55298\n",
        "20501"
       ]
      },
      {
       "output_type": "stream",
       "stream": "stdout",
       "text": [
        "\n",
        "44168"
       ]
      },
      {
       "output_type": "stream",
       "stream": "stdout",
       "text": [
        "\n",
        "list index out of range"
       ]
      },
      {
       "output_type": "stream",
       "stream": "stdout",
       "text": [
        "\n",
        "list index out of range"
       ]
      },
      {
       "output_type": "stream",
       "stream": "stdout",
       "text": [
        "\n",
        "104949"
       ]
      },
      {
       "output_type": "stream",
       "stream": "stdout",
       "text": [
        "\n",
        "74493"
       ]
      },
      {
       "output_type": "stream",
       "stream": "stdout",
       "text": [
        "\n",
        "159681"
       ]
      },
      {
       "output_type": "stream",
       "stream": "stdout",
       "text": [
        "\n",
        "124265"
       ]
      },
      {
       "output_type": "stream",
       "stream": "stdout",
       "text": [
        "\n",
        "Skipping due to no data in GSV.\n",
        "171632\n",
        "Skipping due to no data in GSV.\n",
        "219141\n",
        "159695"
       ]
      },
      {
       "output_type": "stream",
       "stream": "stdout",
       "text": [
        "\n",
        "102239"
       ]
      },
      {
       "output_type": "stream",
       "stream": "stdout",
       "text": [
        "\n",
        "Skipping due to no data in GSV.\n",
        "48853\n",
        "104924"
       ]
      },
      {
       "output_type": "stream",
       "stream": "stdout",
       "text": [
        "\n",
        "18809"
       ]
      },
      {
       "output_type": "stream",
       "stream": "stdout",
       "text": [
        "\n",
        "41569"
       ]
      },
      {
       "output_type": "stream",
       "stream": "stdout",
       "text": [
        "\n",
        "39820"
       ]
      },
      {
       "output_type": "stream",
       "stream": "stdout",
       "text": [
        "\n",
        "Skipping due to no data in GSV.\n",
        "64241\n",
        "191651"
       ]
      },
      {
       "output_type": "stream",
       "stream": "stdout",
       "text": [
        "\n",
        "215723"
       ]
      },
      {
       "output_type": "stream",
       "stream": "stdout",
       "text": [
        "\n",
        "list index out of range"
       ]
      },
      {
       "output_type": "stream",
       "stream": "stdout",
       "text": [
        "\n",
        "list index out of range"
       ]
      },
      {
       "output_type": "stream",
       "stream": "stdout",
       "text": [
        "\n",
        "list index out of range"
       ]
      },
      {
       "output_type": "stream",
       "stream": "stdout",
       "text": [
        "\n",
        "list index out of range"
       ]
      },
      {
       "output_type": "stream",
       "stream": "stdout",
       "text": [
        "\n"
       ]
      }
     ],
     "prompt_number": 7
    }
   ],
   "metadata": {}
  }
 ]
}